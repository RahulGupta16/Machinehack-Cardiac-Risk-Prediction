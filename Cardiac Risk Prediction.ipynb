{
 "cells": [
  {
   "cell_type": "code",
   "execution_count": 337,
   "metadata": {},
   "outputs": [],
   "source": [
    "import pandas as pd\n",
    "import numpy as np\n",
    "import seaborn as sns\n",
    "import matplotlib.pyplot as plt\n",
    "from sklearn.preprocessing import MinMaxScaler, StandardScaler\n",
    "from sklearn.metrics import log_loss\n",
    "from sklearn.linear_model import LogisticRegression\n",
    "from sklearn.tree import DecisionTreeClassifier\n",
    "from sklearn.model_selection import StratifiedKFold, StratifiedShuffleSplit\n",
    "from sklearn.svm import SVC\n",
    "from sklearn.ensemble import RandomForestClassifier, AdaBoostClassifier, GradientBoostingClassifier, ExtraTreesClassifier, StackingClassifier"
   ]
  },
  {
   "cell_type": "code",
   "execution_count": 338,
   "metadata": {},
   "outputs": [],
   "source": [
    "train = pd.read_csv(r'C:\\Users\\Rahul\\Desktop\\Cardiac-Risk-Prediction\\Train.csv')\n",
    "test = pd.read_csv(r'C:\\Users\\Rahul\\Desktop\\Cardiac-Risk-Prediction\\Test.csv')\n",
    "sample = pd.read_excel(r'C:\\Users\\Rahul\\Desktop\\Cardiac-Risk-Prediction\\Sample_Submission.xlsx')"
   ]
  },
  {
   "cell_type": "code",
   "execution_count": 339,
   "metadata": {},
   "outputs": [
    {
     "data": {
      "text/html": [
       "<div>\n",
       "<style scoped>\n",
       "    .dataframe tbody tr th:only-of-type {\n",
       "        vertical-align: middle;\n",
       "    }\n",
       "\n",
       "    .dataframe tbody tr th {\n",
       "        vertical-align: top;\n",
       "    }\n",
       "\n",
       "    .dataframe thead th {\n",
       "        text-align: right;\n",
       "    }\n",
       "</style>\n",
       "<table border=\"1\" class=\"dataframe\">\n",
       "  <thead>\n",
       "    <tr style=\"text-align: right;\">\n",
       "      <th></th>\n",
       "      <th>Gender</th>\n",
       "      <th>Chain_smoker</th>\n",
       "      <th>Consumes_other_tobacco_products</th>\n",
       "      <th>HighBP</th>\n",
       "      <th>Obese</th>\n",
       "      <th>Diabetes</th>\n",
       "      <th>Metabolic_syndrome</th>\n",
       "      <th>Use_of_stimulant_drugs</th>\n",
       "      <th>Family_history</th>\n",
       "      <th>History_of_preeclampsia</th>\n",
       "      <th>CABG_history</th>\n",
       "      <th>Respiratory_illness</th>\n",
       "      <th>UnderRisk</th>\n",
       "    </tr>\n",
       "  </thead>\n",
       "  <tbody>\n",
       "    <tr>\n",
       "      <th>0</th>\n",
       "      <td>1</td>\n",
       "      <td>1</td>\n",
       "      <td>1</td>\n",
       "      <td>0</td>\n",
       "      <td>1</td>\n",
       "      <td>0</td>\n",
       "      <td>0</td>\n",
       "      <td>0</td>\n",
       "      <td>1</td>\n",
       "      <td>0</td>\n",
       "      <td>0</td>\n",
       "      <td>0</td>\n",
       "      <td>no</td>\n",
       "    </tr>\n",
       "    <tr>\n",
       "      <th>1</th>\n",
       "      <td>1</td>\n",
       "      <td>0</td>\n",
       "      <td>1</td>\n",
       "      <td>0</td>\n",
       "      <td>1</td>\n",
       "      <td>0</td>\n",
       "      <td>0</td>\n",
       "      <td>0</td>\n",
       "      <td>1</td>\n",
       "      <td>0</td>\n",
       "      <td>0</td>\n",
       "      <td>0</td>\n",
       "      <td>no</td>\n",
       "    </tr>\n",
       "    <tr>\n",
       "      <th>2</th>\n",
       "      <td>1</td>\n",
       "      <td>0</td>\n",
       "      <td>1</td>\n",
       "      <td>0</td>\n",
       "      <td>1</td>\n",
       "      <td>0</td>\n",
       "      <td>0</td>\n",
       "      <td>0</td>\n",
       "      <td>1</td>\n",
       "      <td>0</td>\n",
       "      <td>0</td>\n",
       "      <td>0</td>\n",
       "      <td>no</td>\n",
       "    </tr>\n",
       "    <tr>\n",
       "      <th>3</th>\n",
       "      <td>1</td>\n",
       "      <td>0</td>\n",
       "      <td>1</td>\n",
       "      <td>0</td>\n",
       "      <td>1</td>\n",
       "      <td>0</td>\n",
       "      <td>0</td>\n",
       "      <td>0</td>\n",
       "      <td>1</td>\n",
       "      <td>0</td>\n",
       "      <td>0</td>\n",
       "      <td>0</td>\n",
       "      <td>no</td>\n",
       "    </tr>\n",
       "    <tr>\n",
       "      <th>4</th>\n",
       "      <td>1</td>\n",
       "      <td>0</td>\n",
       "      <td>0</td>\n",
       "      <td>0</td>\n",
       "      <td>0</td>\n",
       "      <td>0</td>\n",
       "      <td>1</td>\n",
       "      <td>1</td>\n",
       "      <td>0</td>\n",
       "      <td>0</td>\n",
       "      <td>0</td>\n",
       "      <td>0</td>\n",
       "      <td>no</td>\n",
       "    </tr>\n",
       "  </tbody>\n",
       "</table>\n",
       "</div>"
      ],
      "text/plain": [
       "   Gender  Chain_smoker  Consumes_other_tobacco_products  HighBP  Obese  \\\n",
       "0       1             1                                1       0      1   \n",
       "1       1             0                                1       0      1   \n",
       "2       1             0                                1       0      1   \n",
       "3       1             0                                1       0      1   \n",
       "4       1             0                                0       0      0   \n",
       "\n",
       "   Diabetes  Metabolic_syndrome  Use_of_stimulant_drugs  Family_history  \\\n",
       "0         0                   0                       0               1   \n",
       "1         0                   0                       0               1   \n",
       "2         0                   0                       0               1   \n",
       "3         0                   0                       0               1   \n",
       "4         0                   1                       1               0   \n",
       "\n",
       "   History_of_preeclampsia  CABG_history  Respiratory_illness UnderRisk  \n",
       "0                        0             0                    0        no  \n",
       "1                        0             0                    0        no  \n",
       "2                        0             0                    0        no  \n",
       "3                        0             0                    0        no  \n",
       "4                        0             0                    0        no  "
      ]
     },
     "execution_count": 339,
     "metadata": {},
     "output_type": "execute_result"
    }
   ],
   "source": [
    "train.head()"
   ]
  },
  {
   "cell_type": "code",
   "execution_count": 340,
   "metadata": {},
   "outputs": [
    {
     "data": {
      "text/html": [
       "<div>\n",
       "<style scoped>\n",
       "    .dataframe tbody tr th:only-of-type {\n",
       "        vertical-align: middle;\n",
       "    }\n",
       "\n",
       "    .dataframe tbody tr th {\n",
       "        vertical-align: top;\n",
       "    }\n",
       "\n",
       "    .dataframe thead th {\n",
       "        text-align: right;\n",
       "    }\n",
       "</style>\n",
       "<table border=\"1\" class=\"dataframe\">\n",
       "  <thead>\n",
       "    <tr style=\"text-align: right;\">\n",
       "      <th></th>\n",
       "      <th>Gender</th>\n",
       "      <th>Chain_smoker</th>\n",
       "      <th>Consumes_other_tobacco_products</th>\n",
       "      <th>HighBP</th>\n",
       "      <th>Obese</th>\n",
       "      <th>Diabetes</th>\n",
       "      <th>Metabolic_syndrome</th>\n",
       "      <th>Use_of_stimulant_drugs</th>\n",
       "      <th>Family_history</th>\n",
       "      <th>History_of_preeclampsia</th>\n",
       "      <th>CABG_history</th>\n",
       "      <th>Respiratory_illness</th>\n",
       "    </tr>\n",
       "  </thead>\n",
       "  <tbody>\n",
       "    <tr>\n",
       "      <th>0</th>\n",
       "      <td>1</td>\n",
       "      <td>0</td>\n",
       "      <td>1</td>\n",
       "      <td>1</td>\n",
       "      <td>1</td>\n",
       "      <td>0</td>\n",
       "      <td>0</td>\n",
       "      <td>0</td>\n",
       "      <td>1</td>\n",
       "      <td>0</td>\n",
       "      <td>0</td>\n",
       "      <td>0</td>\n",
       "    </tr>\n",
       "    <tr>\n",
       "      <th>1</th>\n",
       "      <td>1</td>\n",
       "      <td>0</td>\n",
       "      <td>1</td>\n",
       "      <td>0</td>\n",
       "      <td>1</td>\n",
       "      <td>0</td>\n",
       "      <td>0</td>\n",
       "      <td>0</td>\n",
       "      <td>1</td>\n",
       "      <td>0</td>\n",
       "      <td>0</td>\n",
       "      <td>0</td>\n",
       "    </tr>\n",
       "    <tr>\n",
       "      <th>2</th>\n",
       "      <td>1</td>\n",
       "      <td>1</td>\n",
       "      <td>1</td>\n",
       "      <td>0</td>\n",
       "      <td>1</td>\n",
       "      <td>0</td>\n",
       "      <td>0</td>\n",
       "      <td>0</td>\n",
       "      <td>1</td>\n",
       "      <td>0</td>\n",
       "      <td>0</td>\n",
       "      <td>0</td>\n",
       "    </tr>\n",
       "    <tr>\n",
       "      <th>3</th>\n",
       "      <td>2</td>\n",
       "      <td>0</td>\n",
       "      <td>0</td>\n",
       "      <td>0</td>\n",
       "      <td>1</td>\n",
       "      <td>0</td>\n",
       "      <td>0</td>\n",
       "      <td>0</td>\n",
       "      <td>1</td>\n",
       "      <td>0</td>\n",
       "      <td>0</td>\n",
       "      <td>0</td>\n",
       "    </tr>\n",
       "    <tr>\n",
       "      <th>4</th>\n",
       "      <td>1</td>\n",
       "      <td>0</td>\n",
       "      <td>1</td>\n",
       "      <td>0</td>\n",
       "      <td>0</td>\n",
       "      <td>0</td>\n",
       "      <td>0</td>\n",
       "      <td>1</td>\n",
       "      <td>1</td>\n",
       "      <td>0</td>\n",
       "      <td>0</td>\n",
       "      <td>0</td>\n",
       "    </tr>\n",
       "  </tbody>\n",
       "</table>\n",
       "</div>"
      ],
      "text/plain": [
       "   Gender  Chain_smoker  Consumes_other_tobacco_products  HighBP  Obese  \\\n",
       "0       1             0                                1       1      1   \n",
       "1       1             0                                1       0      1   \n",
       "2       1             1                                1       0      1   \n",
       "3       2             0                                0       0      1   \n",
       "4       1             0                                1       0      0   \n",
       "\n",
       "   Diabetes  Metabolic_syndrome  Use_of_stimulant_drugs  Family_history  \\\n",
       "0         0                   0                       0               1   \n",
       "1         0                   0                       0               1   \n",
       "2         0                   0                       0               1   \n",
       "3         0                   0                       0               1   \n",
       "4         0                   0                       1               1   \n",
       "\n",
       "   History_of_preeclampsia  CABG_history  Respiratory_illness  \n",
       "0                        0             0                    0  \n",
       "1                        0             0                    0  \n",
       "2                        0             0                    0  \n",
       "3                        0             0                    0  \n",
       "4                        0             0                    0  "
      ]
     },
     "execution_count": 340,
     "metadata": {},
     "output_type": "execute_result"
    }
   ],
   "source": [
    "test.head()"
   ]
  },
  {
   "cell_type": "code",
   "execution_count": 341,
   "metadata": {},
   "outputs": [
    {
     "data": {
      "text/html": [
       "<div>\n",
       "<style scoped>\n",
       "    .dataframe tbody tr th:only-of-type {\n",
       "        vertical-align: middle;\n",
       "    }\n",
       "\n",
       "    .dataframe tbody tr th {\n",
       "        vertical-align: top;\n",
       "    }\n",
       "\n",
       "    .dataframe thead th {\n",
       "        text-align: right;\n",
       "    }\n",
       "</style>\n",
       "<table border=\"1\" class=\"dataframe\">\n",
       "  <thead>\n",
       "    <tr style=\"text-align: right;\">\n",
       "      <th></th>\n",
       "      <th>Gender</th>\n",
       "      <th>Chain_smoker</th>\n",
       "      <th>Consumes_other_tobacco_products</th>\n",
       "      <th>HighBP</th>\n",
       "      <th>Obese</th>\n",
       "      <th>Diabetes</th>\n",
       "      <th>Metabolic_syndrome</th>\n",
       "      <th>Use_of_stimulant_drugs</th>\n",
       "      <th>Family_history</th>\n",
       "      <th>History_of_preeclampsia</th>\n",
       "      <th>CABG_history</th>\n",
       "      <th>Respiratory_illness</th>\n",
       "    </tr>\n",
       "  </thead>\n",
       "  <tbody>\n",
       "    <tr>\n",
       "      <th>count</th>\n",
       "      <td>889.000000</td>\n",
       "      <td>889.000000</td>\n",
       "      <td>889.00000</td>\n",
       "      <td>889.000000</td>\n",
       "      <td>889.000000</td>\n",
       "      <td>889.000000</td>\n",
       "      <td>889.000000</td>\n",
       "      <td>889.000000</td>\n",
       "      <td>889.000000</td>\n",
       "      <td>889.000000</td>\n",
       "      <td>889.000000</td>\n",
       "      <td>889.000000</td>\n",
       "    </tr>\n",
       "    <tr>\n",
       "      <th>mean</th>\n",
       "      <td>1.258718</td>\n",
       "      <td>0.120360</td>\n",
       "      <td>0.83802</td>\n",
       "      <td>0.086614</td>\n",
       "      <td>0.919010</td>\n",
       "      <td>0.055118</td>\n",
       "      <td>0.042745</td>\n",
       "      <td>0.082115</td>\n",
       "      <td>0.925759</td>\n",
       "      <td>0.017998</td>\n",
       "      <td>0.021372</td>\n",
       "      <td>0.032621</td>\n",
       "    </tr>\n",
       "    <tr>\n",
       "      <th>std</th>\n",
       "      <td>0.500557</td>\n",
       "      <td>0.325565</td>\n",
       "      <td>0.36864</td>\n",
       "      <td>0.281427</td>\n",
       "      <td>0.272973</td>\n",
       "      <td>0.228339</td>\n",
       "      <td>0.202395</td>\n",
       "      <td>0.274694</td>\n",
       "      <td>0.262310</td>\n",
       "      <td>0.133018</td>\n",
       "      <td>0.144704</td>\n",
       "      <td>0.177742</td>\n",
       "    </tr>\n",
       "    <tr>\n",
       "      <th>min</th>\n",
       "      <td>0.000000</td>\n",
       "      <td>0.000000</td>\n",
       "      <td>0.00000</td>\n",
       "      <td>0.000000</td>\n",
       "      <td>0.000000</td>\n",
       "      <td>0.000000</td>\n",
       "      <td>0.000000</td>\n",
       "      <td>0.000000</td>\n",
       "      <td>0.000000</td>\n",
       "      <td>0.000000</td>\n",
       "      <td>0.000000</td>\n",
       "      <td>0.000000</td>\n",
       "    </tr>\n",
       "    <tr>\n",
       "      <th>25%</th>\n",
       "      <td>1.000000</td>\n",
       "      <td>0.000000</td>\n",
       "      <td>1.00000</td>\n",
       "      <td>0.000000</td>\n",
       "      <td>1.000000</td>\n",
       "      <td>0.000000</td>\n",
       "      <td>0.000000</td>\n",
       "      <td>0.000000</td>\n",
       "      <td>1.000000</td>\n",
       "      <td>0.000000</td>\n",
       "      <td>0.000000</td>\n",
       "      <td>0.000000</td>\n",
       "    </tr>\n",
       "    <tr>\n",
       "      <th>50%</th>\n",
       "      <td>1.000000</td>\n",
       "      <td>0.000000</td>\n",
       "      <td>1.00000</td>\n",
       "      <td>0.000000</td>\n",
       "      <td>1.000000</td>\n",
       "      <td>0.000000</td>\n",
       "      <td>0.000000</td>\n",
       "      <td>0.000000</td>\n",
       "      <td>1.000000</td>\n",
       "      <td>0.000000</td>\n",
       "      <td>0.000000</td>\n",
       "      <td>0.000000</td>\n",
       "    </tr>\n",
       "    <tr>\n",
       "      <th>75%</th>\n",
       "      <td>2.000000</td>\n",
       "      <td>0.000000</td>\n",
       "      <td>1.00000</td>\n",
       "      <td>0.000000</td>\n",
       "      <td>1.000000</td>\n",
       "      <td>0.000000</td>\n",
       "      <td>0.000000</td>\n",
       "      <td>0.000000</td>\n",
       "      <td>1.000000</td>\n",
       "      <td>0.000000</td>\n",
       "      <td>0.000000</td>\n",
       "      <td>0.000000</td>\n",
       "    </tr>\n",
       "    <tr>\n",
       "      <th>max</th>\n",
       "      <td>2.000000</td>\n",
       "      <td>1.000000</td>\n",
       "      <td>1.00000</td>\n",
       "      <td>1.000000</td>\n",
       "      <td>1.000000</td>\n",
       "      <td>1.000000</td>\n",
       "      <td>1.000000</td>\n",
       "      <td>1.000000</td>\n",
       "      <td>1.000000</td>\n",
       "      <td>1.000000</td>\n",
       "      <td>1.000000</td>\n",
       "      <td>1.000000</td>\n",
       "    </tr>\n",
       "  </tbody>\n",
       "</table>\n",
       "</div>"
      ],
      "text/plain": [
       "           Gender  Chain_smoker  Consumes_other_tobacco_products      HighBP  \\\n",
       "count  889.000000    889.000000                        889.00000  889.000000   \n",
       "mean     1.258718      0.120360                          0.83802    0.086614   \n",
       "std      0.500557      0.325565                          0.36864    0.281427   \n",
       "min      0.000000      0.000000                          0.00000    0.000000   \n",
       "25%      1.000000      0.000000                          1.00000    0.000000   \n",
       "50%      1.000000      0.000000                          1.00000    0.000000   \n",
       "75%      2.000000      0.000000                          1.00000    0.000000   \n",
       "max      2.000000      1.000000                          1.00000    1.000000   \n",
       "\n",
       "            Obese    Diabetes  Metabolic_syndrome  Use_of_stimulant_drugs  \\\n",
       "count  889.000000  889.000000          889.000000              889.000000   \n",
       "mean     0.919010    0.055118            0.042745                0.082115   \n",
       "std      0.272973    0.228339            0.202395                0.274694   \n",
       "min      0.000000    0.000000            0.000000                0.000000   \n",
       "25%      1.000000    0.000000            0.000000                0.000000   \n",
       "50%      1.000000    0.000000            0.000000                0.000000   \n",
       "75%      1.000000    0.000000            0.000000                0.000000   \n",
       "max      1.000000    1.000000            1.000000                1.000000   \n",
       "\n",
       "       Family_history  History_of_preeclampsia  CABG_history  \\\n",
       "count      889.000000               889.000000    889.000000   \n",
       "mean         0.925759                 0.017998      0.021372   \n",
       "std          0.262310                 0.133018      0.144704   \n",
       "min          0.000000                 0.000000      0.000000   \n",
       "25%          1.000000                 0.000000      0.000000   \n",
       "50%          1.000000                 0.000000      0.000000   \n",
       "75%          1.000000                 0.000000      0.000000   \n",
       "max          1.000000                 1.000000      1.000000   \n",
       "\n",
       "       Respiratory_illness  \n",
       "count           889.000000  \n",
       "mean              0.032621  \n",
       "std               0.177742  \n",
       "min               0.000000  \n",
       "25%               0.000000  \n",
       "50%               0.000000  \n",
       "75%               0.000000  \n",
       "max               1.000000  "
      ]
     },
     "execution_count": 341,
     "metadata": {},
     "output_type": "execute_result"
    }
   ],
   "source": [
    "train.describe()"
   ]
  },
  {
   "cell_type": "code",
   "execution_count": 342,
   "metadata": {},
   "outputs": [
    {
     "data": {
      "text/html": [
       "<div>\n",
       "<style scoped>\n",
       "    .dataframe tbody tr th:only-of-type {\n",
       "        vertical-align: middle;\n",
       "    }\n",
       "\n",
       "    .dataframe tbody tr th {\n",
       "        vertical-align: top;\n",
       "    }\n",
       "\n",
       "    .dataframe thead th {\n",
       "        text-align: right;\n",
       "    }\n",
       "</style>\n",
       "<table border=\"1\" class=\"dataframe\">\n",
       "  <thead>\n",
       "    <tr style=\"text-align: right;\">\n",
       "      <th></th>\n",
       "      <th>Gender</th>\n",
       "      <th>Chain_smoker</th>\n",
       "      <th>Consumes_other_tobacco_products</th>\n",
       "      <th>HighBP</th>\n",
       "      <th>Obese</th>\n",
       "      <th>Diabetes</th>\n",
       "      <th>Metabolic_syndrome</th>\n",
       "      <th>Use_of_stimulant_drugs</th>\n",
       "      <th>Family_history</th>\n",
       "      <th>History_of_preeclampsia</th>\n",
       "      <th>CABG_history</th>\n",
       "      <th>Respiratory_illness</th>\n",
       "    </tr>\n",
       "  </thead>\n",
       "  <tbody>\n",
       "    <tr>\n",
       "      <th>count</th>\n",
       "      <td>382.000000</td>\n",
       "      <td>382.000000</td>\n",
       "      <td>382.000000</td>\n",
       "      <td>382.000000</td>\n",
       "      <td>382.000000</td>\n",
       "      <td>382.000000</td>\n",
       "      <td>382.000000</td>\n",
       "      <td>382.000000</td>\n",
       "      <td>382.000000</td>\n",
       "      <td>382.000000</td>\n",
       "      <td>382.000000</td>\n",
       "      <td>382.000000</td>\n",
       "    </tr>\n",
       "    <tr>\n",
       "      <th>mean</th>\n",
       "      <td>1.295812</td>\n",
       "      <td>0.120419</td>\n",
       "      <td>0.793194</td>\n",
       "      <td>0.054974</td>\n",
       "      <td>0.892670</td>\n",
       "      <td>0.052356</td>\n",
       "      <td>0.060209</td>\n",
       "      <td>0.107330</td>\n",
       "      <td>0.924084</td>\n",
       "      <td>0.005236</td>\n",
       "      <td>0.020942</td>\n",
       "      <td>0.031414</td>\n",
       "    </tr>\n",
       "    <tr>\n",
       "      <th>std</th>\n",
       "      <td>0.511221</td>\n",
       "      <td>0.325878</td>\n",
       "      <td>0.405547</td>\n",
       "      <td>0.228228</td>\n",
       "      <td>0.309938</td>\n",
       "      <td>0.223036</td>\n",
       "      <td>0.238186</td>\n",
       "      <td>0.309938</td>\n",
       "      <td>0.265211</td>\n",
       "      <td>0.072262</td>\n",
       "      <td>0.143379</td>\n",
       "      <td>0.174662</td>\n",
       "    </tr>\n",
       "    <tr>\n",
       "      <th>min</th>\n",
       "      <td>0.000000</td>\n",
       "      <td>0.000000</td>\n",
       "      <td>0.000000</td>\n",
       "      <td>0.000000</td>\n",
       "      <td>0.000000</td>\n",
       "      <td>0.000000</td>\n",
       "      <td>0.000000</td>\n",
       "      <td>0.000000</td>\n",
       "      <td>0.000000</td>\n",
       "      <td>0.000000</td>\n",
       "      <td>0.000000</td>\n",
       "      <td>0.000000</td>\n",
       "    </tr>\n",
       "    <tr>\n",
       "      <th>25%</th>\n",
       "      <td>1.000000</td>\n",
       "      <td>0.000000</td>\n",
       "      <td>1.000000</td>\n",
       "      <td>0.000000</td>\n",
       "      <td>1.000000</td>\n",
       "      <td>0.000000</td>\n",
       "      <td>0.000000</td>\n",
       "      <td>0.000000</td>\n",
       "      <td>1.000000</td>\n",
       "      <td>0.000000</td>\n",
       "      <td>0.000000</td>\n",
       "      <td>0.000000</td>\n",
       "    </tr>\n",
       "    <tr>\n",
       "      <th>50%</th>\n",
       "      <td>1.000000</td>\n",
       "      <td>0.000000</td>\n",
       "      <td>1.000000</td>\n",
       "      <td>0.000000</td>\n",
       "      <td>1.000000</td>\n",
       "      <td>0.000000</td>\n",
       "      <td>0.000000</td>\n",
       "      <td>0.000000</td>\n",
       "      <td>1.000000</td>\n",
       "      <td>0.000000</td>\n",
       "      <td>0.000000</td>\n",
       "      <td>0.000000</td>\n",
       "    </tr>\n",
       "    <tr>\n",
       "      <th>75%</th>\n",
       "      <td>2.000000</td>\n",
       "      <td>0.000000</td>\n",
       "      <td>1.000000</td>\n",
       "      <td>0.000000</td>\n",
       "      <td>1.000000</td>\n",
       "      <td>0.000000</td>\n",
       "      <td>0.000000</td>\n",
       "      <td>0.000000</td>\n",
       "      <td>1.000000</td>\n",
       "      <td>0.000000</td>\n",
       "      <td>0.000000</td>\n",
       "      <td>0.000000</td>\n",
       "    </tr>\n",
       "    <tr>\n",
       "      <th>max</th>\n",
       "      <td>2.000000</td>\n",
       "      <td>1.000000</td>\n",
       "      <td>1.000000</td>\n",
       "      <td>1.000000</td>\n",
       "      <td>1.000000</td>\n",
       "      <td>1.000000</td>\n",
       "      <td>1.000000</td>\n",
       "      <td>1.000000</td>\n",
       "      <td>1.000000</td>\n",
       "      <td>1.000000</td>\n",
       "      <td>1.000000</td>\n",
       "      <td>1.000000</td>\n",
       "    </tr>\n",
       "  </tbody>\n",
       "</table>\n",
       "</div>"
      ],
      "text/plain": [
       "           Gender  Chain_smoker  Consumes_other_tobacco_products      HighBP  \\\n",
       "count  382.000000    382.000000                       382.000000  382.000000   \n",
       "mean     1.295812      0.120419                         0.793194    0.054974   \n",
       "std      0.511221      0.325878                         0.405547    0.228228   \n",
       "min      0.000000      0.000000                         0.000000    0.000000   \n",
       "25%      1.000000      0.000000                         1.000000    0.000000   \n",
       "50%      1.000000      0.000000                         1.000000    0.000000   \n",
       "75%      2.000000      0.000000                         1.000000    0.000000   \n",
       "max      2.000000      1.000000                         1.000000    1.000000   \n",
       "\n",
       "            Obese    Diabetes  Metabolic_syndrome  Use_of_stimulant_drugs  \\\n",
       "count  382.000000  382.000000          382.000000              382.000000   \n",
       "mean     0.892670    0.052356            0.060209                0.107330   \n",
       "std      0.309938    0.223036            0.238186                0.309938   \n",
       "min      0.000000    0.000000            0.000000                0.000000   \n",
       "25%      1.000000    0.000000            0.000000                0.000000   \n",
       "50%      1.000000    0.000000            0.000000                0.000000   \n",
       "75%      1.000000    0.000000            0.000000                0.000000   \n",
       "max      1.000000    1.000000            1.000000                1.000000   \n",
       "\n",
       "       Family_history  History_of_preeclampsia  CABG_history  \\\n",
       "count      382.000000               382.000000    382.000000   \n",
       "mean         0.924084                 0.005236      0.020942   \n",
       "std          0.265211                 0.072262      0.143379   \n",
       "min          0.000000                 0.000000      0.000000   \n",
       "25%          1.000000                 0.000000      0.000000   \n",
       "50%          1.000000                 0.000000      0.000000   \n",
       "75%          1.000000                 0.000000      0.000000   \n",
       "max          1.000000                 1.000000      1.000000   \n",
       "\n",
       "       Respiratory_illness  \n",
       "count           382.000000  \n",
       "mean              0.031414  \n",
       "std               0.174662  \n",
       "min               0.000000  \n",
       "25%               0.000000  \n",
       "50%               0.000000  \n",
       "75%               0.000000  \n",
       "max               1.000000  "
      ]
     },
     "execution_count": 342,
     "metadata": {},
     "output_type": "execute_result"
    }
   ],
   "source": [
    "test.describe()"
   ]
  },
  {
   "cell_type": "code",
   "execution_count": 343,
   "metadata": {},
   "outputs": [
    {
     "data": {
      "text/plain": [
       "Gender                             0\n",
       "Chain_smoker                       0\n",
       "Consumes_other_tobacco_products    0\n",
       "HighBP                             0\n",
       "Obese                              0\n",
       "Diabetes                           0\n",
       "Metabolic_syndrome                 0\n",
       "Use_of_stimulant_drugs             0\n",
       "Family_history                     0\n",
       "History_of_preeclampsia            0\n",
       "CABG_history                       0\n",
       "Respiratory_illness                0\n",
       "UnderRisk                          0\n",
       "dtype: int64"
      ]
     },
     "execution_count": 343,
     "metadata": {},
     "output_type": "execute_result"
    }
   ],
   "source": [
    "train.isnull().sum()"
   ]
  },
  {
   "cell_type": "code",
   "execution_count": 344,
   "metadata": {},
   "outputs": [
    {
     "data": {
      "text/plain": [
       "Gender                             0\n",
       "Chain_smoker                       0\n",
       "Consumes_other_tobacco_products    0\n",
       "HighBP                             0\n",
       "Obese                              0\n",
       "Diabetes                           0\n",
       "Metabolic_syndrome                 0\n",
       "Use_of_stimulant_drugs             0\n",
       "Family_history                     0\n",
       "History_of_preeclampsia            0\n",
       "CABG_history                       0\n",
       "Respiratory_illness                0\n",
       "dtype: int64"
      ]
     },
     "execution_count": 344,
     "metadata": {},
     "output_type": "execute_result"
    }
   ],
   "source": [
    "test.isnull().sum()"
   ]
  },
  {
   "cell_type": "code",
   "execution_count": 345,
   "metadata": {},
   "outputs": [
    {
     "data": {
      "text/plain": [
       "['Gender',\n",
       " 'Chain_smoker',\n",
       " 'Consumes_other_tobacco_products',\n",
       " 'HighBP',\n",
       " 'Obese',\n",
       " 'Diabetes',\n",
       " 'Metabolic_syndrome',\n",
       " 'Use_of_stimulant_drugs',\n",
       " 'Family_history',\n",
       " 'History_of_preeclampsia',\n",
       " 'CABG_history',\n",
       " 'Respiratory_illness']"
      ]
     },
     "execution_count": 345,
     "metadata": {},
     "output_type": "execute_result"
    }
   ],
   "source": [
    "list(train.columns[:-1])"
   ]
  },
  {
   "cell_type": "code",
   "execution_count": 346,
   "metadata": {},
   "outputs": [
    {
     "data": {
      "text/plain": [
       "1    607\n",
       "2    256\n",
       "0     26\n",
       "Name: Gender, dtype: int64"
      ]
     },
     "execution_count": 346,
     "metadata": {},
     "output_type": "execute_result"
    }
   ],
   "source": [
    "train.Gender.value_counts()"
   ]
  },
  {
   "cell_type": "code",
   "execution_count": 347,
   "metadata": {},
   "outputs": [
    {
     "data": {
      "text/html": [
       "<div>\n",
       "<style scoped>\n",
       "    .dataframe tbody tr th:only-of-type {\n",
       "        vertical-align: middle;\n",
       "    }\n",
       "\n",
       "    .dataframe tbody tr th {\n",
       "        vertical-align: top;\n",
       "    }\n",
       "\n",
       "    .dataframe thead th {\n",
       "        text-align: right;\n",
       "    }\n",
       "</style>\n",
       "<table border=\"1\" class=\"dataframe\">\n",
       "  <thead>\n",
       "    <tr style=\"text-align: right;\">\n",
       "      <th></th>\n",
       "      <th>Gender</th>\n",
       "      <th>Chain_smoker</th>\n",
       "      <th>Consumes_other_tobacco_products</th>\n",
       "      <th>HighBP</th>\n",
       "      <th>Obese</th>\n",
       "      <th>Diabetes</th>\n",
       "      <th>Metabolic_syndrome</th>\n",
       "      <th>Use_of_stimulant_drugs</th>\n",
       "      <th>Family_history</th>\n",
       "      <th>History_of_preeclampsia</th>\n",
       "      <th>CABG_history</th>\n",
       "      <th>Respiratory_illness</th>\n",
       "      <th>UnderRisk</th>\n",
       "    </tr>\n",
       "  </thead>\n",
       "  <tbody>\n",
       "    <tr>\n",
       "      <th>0</th>\n",
       "      <td>1</td>\n",
       "      <td>1</td>\n",
       "      <td>1</td>\n",
       "      <td>0</td>\n",
       "      <td>1</td>\n",
       "      <td>0</td>\n",
       "      <td>0</td>\n",
       "      <td>0</td>\n",
       "      <td>1</td>\n",
       "      <td>0</td>\n",
       "      <td>0</td>\n",
       "      <td>0</td>\n",
       "      <td>no</td>\n",
       "    </tr>\n",
       "  </tbody>\n",
       "</table>\n",
       "</div>"
      ],
      "text/plain": [
       "   Gender  Chain_smoker  Consumes_other_tobacco_products  HighBP  Obese  \\\n",
       "0       1             1                                1       0      1   \n",
       "\n",
       "   Diabetes  Metabolic_syndrome  Use_of_stimulant_drugs  Family_history  \\\n",
       "0         0                   0                       0               1   \n",
       "\n",
       "   History_of_preeclampsia  CABG_history  Respiratory_illness UnderRisk  \n",
       "0                        0             0                    0        no  "
      ]
     },
     "execution_count": 347,
     "metadata": {},
     "output_type": "execute_result"
    }
   ],
   "source": [
    "train.head(1)"
   ]
  },
  {
   "cell_type": "code",
   "execution_count": 348,
   "metadata": {
    "scrolled": true
   },
   "outputs": [
    {
     "data": {
      "text/plain": [
       "Chain_smoker  Consumes_other_tobacco_products  HighBP  UnderRisk\n",
       "0             0                                0       no            83\n",
       "                                                       yes           15\n",
       "                                               1       no             8\n",
       "                                                       yes            6\n",
       "              1                                0       no           482\n",
       "                                                       yes          141\n",
       "                                               1       no            25\n",
       "                                                       yes           22\n",
       "1             0                                0       no            25\n",
       "                                                       yes            1\n",
       "                                               1       no             6\n",
       "              1                                0       no            62\n",
       "                                                       yes            3\n",
       "                                               1       no             8\n",
       "                                                       yes            2\n",
       "Name: UnderRisk, dtype: int64"
      ]
     },
     "execution_count": 348,
     "metadata": {},
     "output_type": "execute_result"
    }
   ],
   "source": [
    "train.groupby(['Chain_smoker','Consumes_other_tobacco_products','HighBP'])['UnderRisk'].value_counts()"
   ]
  },
  {
   "cell_type": "code",
   "execution_count": 349,
   "metadata": {},
   "outputs": [
    {
     "data": {
      "text/plain": [
       "0    870\n",
       "1     19\n",
       "Name: CABG_history, dtype: int64"
      ]
     },
     "execution_count": 349,
     "metadata": {},
     "output_type": "execute_result"
    }
   ],
   "source": [
    "train.CABG_history.value_counts()"
   ]
  },
  {
   "cell_type": "code",
   "execution_count": 350,
   "metadata": {},
   "outputs": [],
   "source": [
    "train['Total_Risk']= np.sum(train.loc[:,'Chain_smoker':'Respiratory_illness'] , axis = 1)\n",
    "test['Total_Risk']= np.sum(test.loc[:,'Chain_smoker':'Respiratory_illness'] , axis = 1)"
   ]
  },
  {
   "cell_type": "code",
   "execution_count": 351,
   "metadata": {},
   "outputs": [],
   "source": [
    "tr_dummies = pd.DataFrame(pd.get_dummies(train[['Gender','Total_Risk']].astype('category')))\n",
    "te_dummies = pd.DataFrame(pd.get_dummies(test[['Gender','Total_Risk']].astype('category')))\n",
    "\n",
    "train = pd.concat([train,tr_dummies],axis=1)\n",
    "test = pd.concat([test,te_dummies],axis=1)\n",
    "\n",
    "train.drop(columns=['Gender','Total_Risk'],inplace=True)\n",
    "test.drop(columns=['Gender','Total_Risk'],inplace=True)"
   ]
  },
  {
   "cell_type": "code",
   "execution_count": 352,
   "metadata": {},
   "outputs": [],
   "source": [
    "label = train.UnderRisk\n",
    "label = label.apply(lambda x : 1 if (x=='yes') else 0)\n",
    "train.drop(columns=['UnderRisk'],inplace=True)"
   ]
  },
  {
   "cell_type": "code",
   "execution_count": 353,
   "metadata": {},
   "outputs": [
    {
     "data": {
      "text/plain": [
       "0    699\n",
       "1    190\n",
       "Name: UnderRisk, dtype: int64"
      ]
     },
     "execution_count": 353,
     "metadata": {},
     "output_type": "execute_result"
    }
   ],
   "source": [
    "label.value_counts()"
   ]
  },
  {
   "cell_type": "code",
   "execution_count": 354,
   "metadata": {},
   "outputs": [],
   "source": [
    "def model(m, train, label, test, random):\n",
    "    strat = StratifiedShuffleSplit(n_splits= 9, random_state = random)\n",
    "    for tr_index,te_index in strat.split(train,label):\n",
    "        \n",
    "        xtrain,xval = train.loc[tr_index,:],train.loc[te_index,:]\n",
    "        ytrain,yval = label.loc[tr_index], label.loc[te_index]\n",
    "        \n",
    "        m.fit(xtrain,ytrain)\n",
    "        tr_pred = m.predict_proba(xtrain)\n",
    "        te_pred = m.predict_proba(xval)\n",
    "        \n",
    "        print('Training Loss :{}                                    Testing Loss : {}'.format(log_loss(ytrain,tr_pred),log_loss(yval,te_pred)))\n",
    "    return(pd.DataFrame(m.predict_proba(test)))    "
   ]
  },
  {
   "cell_type": "code",
   "execution_count": 230,
   "metadata": {},
   "outputs": [
    {
     "name": "stdout",
     "output_type": "stream",
     "text": [
      "Training Loss :0.43089295384379633                                    Testing Loss : 1.3161731740421474\n",
      "Training Loss :0.4343372732867356                                    Testing Loss : 1.2410895426826134\n",
      "Training Loss :0.44049043071648414                                    Testing Loss : 0.4886512618911808\n",
      "Training Loss :0.44277092497604725                                    Testing Loss : 0.46354525693215937\n",
      "Training Loss :0.4455177197984341                                    Testing Loss : 0.4585640323511888\n"
     ]
    }
   ],
   "source": [
    "model(RandomForestClassifier(),train,label,test,78)"
   ]
  },
  {
   "cell_type": "code",
   "execution_count": 231,
   "metadata": {},
   "outputs": [
    {
     "name": "stdout",
     "output_type": "stream",
     "text": [
      "Training Loss :0.4355273894604451                                    Testing Loss : 0.5035072623524859\n",
      "Training Loss :0.4386275196999236                                    Testing Loss : 0.462685646322105\n",
      "Training Loss :0.4392165776303231                                    Testing Loss : 0.8307890880332518\n",
      "Training Loss :0.4355402011947112                                    Testing Loss : 1.2539385475740754\n",
      "Training Loss :0.4380461624350464                                    Testing Loss : 1.2391058833087707\n"
     ]
    }
   ],
   "source": [
    "model(DecisionTreeClassifier(),train,label,test,578)"
   ]
  },
  {
   "cell_type": "code",
   "execution_count": 358,
   "metadata": {},
   "outputs": [
    {
     "name": "stdout",
     "output_type": "stream",
     "text": [
      "Training Loss :0.4622574614754352                                    Testing Loss : 0.491314523406453\n",
      "Training Loss :0.462515796362939                                    Testing Loss : 0.5091778153173262\n",
      "Training Loss :0.4655074243236139                                    Testing Loss : 0.4658588204914032\n",
      "Training Loss :0.4662927914262439                                    Testing Loss : 0.4694092806849073\n",
      "Training Loss :0.46411499210551965                                    Testing Loss : 0.4798158989820729\n",
      "Training Loss :0.465251122797637                                    Testing Loss : 0.47316291041149905\n",
      "Training Loss :0.46327989066287273                                    Testing Loss : 0.4870554816932942\n",
      "Training Loss :0.4631010747723295                                    Testing Loss : 0.48883732806633273\n",
      "Training Loss :0.46544246092296604                                    Testing Loss : 0.4648984225412641\n"
     ]
    }
   ],
   "source": [
    "result = model(LogisticRegression(random_state=8214),train,label,test,82341)"
   ]
  },
  {
   "cell_type": "code",
   "execution_count": 233,
   "metadata": {},
   "outputs": [
    {
     "name": "stdout",
     "output_type": "stream",
     "text": [
      "Training Loss :0.6513441373206096                                    Testing Loss : 0.6630103815598669\n",
      "Training Loss :0.6523611622574397                                    Testing Loss : 0.6472876802756348\n",
      "Training Loss :0.6518827728941866                                    Testing Loss : 0.6500419854423792\n",
      "Training Loss :0.652928449922287                                    Testing Loss : 0.6494571792102924\n",
      "Training Loss :0.6517709994839674                                    Testing Loss : 0.6588641513448045\n"
     ]
    }
   ],
   "source": [
    "model(AdaBoostClassifier(),train,label,test,5098)"
   ]
  },
  {
   "cell_type": "code",
   "execution_count": 234,
   "metadata": {},
   "outputs": [
    {
     "name": "stdout",
     "output_type": "stream",
     "text": [
      "Training Loss :0.44629148001058055                                    Testing Loss : 0.47978934936704104\n",
      "Training Loss :0.44298238170011817                                    Testing Loss : 0.5051486930582938\n",
      "Training Loss :0.44173601016457087                                    Testing Loss : 0.504117719910796\n",
      "Training Loss :0.4486326032558914                                    Testing Loss : 0.42587687487204234\n",
      "Training Loss :0.44347422142606363                                    Testing Loss : 0.4734679388283704\n"
     ]
    }
   ],
   "source": [
    "model(GradientBoostingClassifier(),train,label,test,238)"
   ]
  },
  {
   "cell_type": "code",
   "execution_count": 235,
   "metadata": {},
   "outputs": [
    {
     "name": "stdout",
     "output_type": "stream",
     "text": [
      "Training Loss :0.4384171417919913                                    Testing Loss : 1.1966157236087642\n",
      "Training Loss :0.4425891344064354                                    Testing Loss : 0.4410146365713371\n",
      "Training Loss :0.43695259472550196                                    Testing Loss : 0.8591189879084301\n",
      "Training Loss :0.4327408184923422                                    Testing Loss : 1.260886849863909\n",
      "Training Loss :0.4438900823374341                                    Testing Loss : 0.43743421038800556\n"
     ]
    }
   ],
   "source": [
    "model(ExtraTreesClassifier(),train,label,test,520978)"
   ]
  },
  {
   "cell_type": "code",
   "execution_count": 236,
   "metadata": {},
   "outputs": [
    {
     "name": "stdout",
     "output_type": "stream",
     "text": [
      "Training Loss :0.49981320264668405                                    Testing Loss : 0.5152536625811162\n",
      "Training Loss :0.49880220479066467                                    Testing Loss : 0.5132638587171109\n",
      "Training Loss :0.5065616855044063                                    Testing Loss : 0.5148960766268247\n",
      "Training Loss :0.5020222700991029                                    Testing Loss : 0.5171888364519557\n",
      "Training Loss :0.5129740242980795                                    Testing Loss : 0.5180489892611998\n"
     ]
    }
   ],
   "source": [
    "model(SVC(probability=True),train,label,test,5278)"
   ]
  },
  {
   "cell_type": "code",
   "execution_count": 360,
   "metadata": {},
   "outputs": [],
   "source": [
    "result.columns= sample.columns"
   ]
  },
  {
   "cell_type": "code",
   "execution_count": 362,
   "metadata": {},
   "outputs": [],
   "source": [
    "result.to_excel('Base_lr.xlsx',index=False)"
   ]
  },
  {
   "cell_type": "code",
   "execution_count": null,
   "metadata": {},
   "outputs": [],
   "source": []
  }
 ],
 "metadata": {
  "kernelspec": {
   "display_name": "Python 3",
   "language": "python",
   "name": "python3"
  },
  "language_info": {
   "codemirror_mode": {
    "name": "ipython",
    "version": 3
   },
   "file_extension": ".py",
   "mimetype": "text/x-python",
   "name": "python",
   "nbconvert_exporter": "python",
   "pygments_lexer": "ipython3",
   "version": "3.7.1"
  }
 },
 "nbformat": 4,
 "nbformat_minor": 4
}
